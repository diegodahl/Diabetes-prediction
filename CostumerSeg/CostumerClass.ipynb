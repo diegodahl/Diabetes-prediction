{
 "cells": [
  {
   "cell_type": "code",
   "execution_count": 33,
   "id": "a874b37d-7a31-4edf-8858-65996ce01094",
   "metadata": {},
   "outputs": [],
   "source": [
    "import pandas as pd, matplotlib.pyplot as plt\n",
    "import numpy as np"
   ]
  },
  {
   "cell_type": "code",
   "execution_count": 34,
   "id": "074c58b0-345a-4993-a27a-67e2c0d71d21",
   "metadata": {},
   "outputs": [],
   "source": [
    "from sklearn.preprocessing import MinMaxScaler\n",
    "\n",
    "from kmodes.kprototypes import KPrototypes"
   ]
  },
  {
   "cell_type": "code",
   "execution_count": 35,
   "id": "65f9a086-e940-4c4d-b5ea-5c36c988e607",
   "metadata": {},
   "outputs": [
    {
     "data": {
      "text/html": [
       "<div>\n",
       "<style scoped>\n",
       "    .dataframe tbody tr th:only-of-type {\n",
       "        vertical-align: middle;\n",
       "    }\n",
       "\n",
       "    .dataframe tbody tr th {\n",
       "        vertical-align: top;\n",
       "    }\n",
       "\n",
       "    .dataframe thead th {\n",
       "        text-align: right;\n",
       "    }\n",
       "</style>\n",
       "<table border=\"1\" class=\"dataframe\">\n",
       "  <thead>\n",
       "    <tr style=\"text-align: right;\">\n",
       "      <th></th>\n",
       "      <th>ID</th>\n",
       "      <th>Sex</th>\n",
       "      <th>Marital status</th>\n",
       "      <th>Age</th>\n",
       "      <th>Education</th>\n",
       "      <th>Income</th>\n",
       "      <th>Occupation</th>\n",
       "      <th>Settlement size</th>\n",
       "    </tr>\n",
       "  </thead>\n",
       "  <tbody>\n",
       "    <tr>\n",
       "      <th>0</th>\n",
       "      <td>100000001</td>\n",
       "      <td>0</td>\n",
       "      <td>0</td>\n",
       "      <td>67</td>\n",
       "      <td>2</td>\n",
       "      <td>124670</td>\n",
       "      <td>1</td>\n",
       "      <td>2</td>\n",
       "    </tr>\n",
       "    <tr>\n",
       "      <th>1</th>\n",
       "      <td>100000002</td>\n",
       "      <td>1</td>\n",
       "      <td>1</td>\n",
       "      <td>22</td>\n",
       "      <td>1</td>\n",
       "      <td>150773</td>\n",
       "      <td>1</td>\n",
       "      <td>2</td>\n",
       "    </tr>\n",
       "    <tr>\n",
       "      <th>2</th>\n",
       "      <td>100000003</td>\n",
       "      <td>0</td>\n",
       "      <td>0</td>\n",
       "      <td>49</td>\n",
       "      <td>1</td>\n",
       "      <td>89210</td>\n",
       "      <td>0</td>\n",
       "      <td>0</td>\n",
       "    </tr>\n",
       "    <tr>\n",
       "      <th>3</th>\n",
       "      <td>100000004</td>\n",
       "      <td>0</td>\n",
       "      <td>0</td>\n",
       "      <td>45</td>\n",
       "      <td>1</td>\n",
       "      <td>171565</td>\n",
       "      <td>1</td>\n",
       "      <td>1</td>\n",
       "    </tr>\n",
       "    <tr>\n",
       "      <th>4</th>\n",
       "      <td>100000005</td>\n",
       "      <td>0</td>\n",
       "      <td>0</td>\n",
       "      <td>53</td>\n",
       "      <td>1</td>\n",
       "      <td>149031</td>\n",
       "      <td>1</td>\n",
       "      <td>1</td>\n",
       "    </tr>\n",
       "  </tbody>\n",
       "</table>\n",
       "</div>"
      ],
      "text/plain": [
       "          ID  Sex  Marital status  Age  Education  Income  Occupation  \\\n",
       "0  100000001    0               0   67          2  124670           1   \n",
       "1  100000002    1               1   22          1  150773           1   \n",
       "2  100000003    0               0   49          1   89210           0   \n",
       "3  100000004    0               0   45          1  171565           1   \n",
       "4  100000005    0               0   53          1  149031           1   \n",
       "\n",
       "   Settlement size  \n",
       "0                2  \n",
       "1                2  \n",
       "2                0  \n",
       "3                1  \n",
       "4                1  "
      ]
     },
     "execution_count": 35,
     "metadata": {},
     "output_type": "execute_result"
    }
   ],
   "source": [
    "df = pd.read_csv('segmentation-data.csv')\n",
    "df.head()"
   ]
  },
  {
   "cell_type": "code",
   "execution_count": 36,
   "id": "a561919b-59ee-4686-a393-159324266714",
   "metadata": {},
   "outputs": [
    {
     "data": {
      "text/plain": [
       "1    1386\n",
       "2     291\n",
       "0     287\n",
       "3      36\n",
       "Name: Education, dtype: int64"
      ]
     },
     "execution_count": 36,
     "metadata": {},
     "output_type": "execute_result"
    }
   ],
   "source": [
    "df['Education'].value_counts()"
   ]
  },
  {
   "cell_type": "code",
   "execution_count": 37,
   "id": "ae313c58-dbfb-4a9e-820f-32214c761eb1",
   "metadata": {},
   "outputs": [
    {
     "data": {
      "text/plain": [
       "ID                 0\n",
       "Sex                0\n",
       "Marital status     0\n",
       "Age                0\n",
       "Education          0\n",
       "Income             0\n",
       "Occupation         0\n",
       "Settlement size    0\n",
       "dtype: int64"
      ]
     },
     "execution_count": 37,
     "metadata": {},
     "output_type": "execute_result"
    }
   ],
   "source": [
    "df.isnull().sum()\n",
    "# No hay valores nulos"
   ]
  },
  {
   "cell_type": "code",
   "execution_count": 41,
   "id": "434de142-815e-42cd-ab1b-2d27d1494855",
   "metadata": {},
   "outputs": [
    {
     "data": {
      "text/html": [
       "<div>\n",
       "<style scoped>\n",
       "    .dataframe tbody tr th:only-of-type {\n",
       "        vertical-align: middle;\n",
       "    }\n",
       "\n",
       "    .dataframe tbody tr th {\n",
       "        vertical-align: top;\n",
       "    }\n",
       "\n",
       "    .dataframe thead th {\n",
       "        text-align: right;\n",
       "    }\n",
       "</style>\n",
       "<table border=\"1\" class=\"dataframe\">\n",
       "  <thead>\n",
       "    <tr style=\"text-align: right;\">\n",
       "      <th></th>\n",
       "      <th>ID</th>\n",
       "      <th>Age</th>\n",
       "      <th>Income</th>\n",
       "    </tr>\n",
       "  </thead>\n",
       "  <tbody>\n",
       "    <tr>\n",
       "      <th>0</th>\n",
       "      <td>100000001</td>\n",
       "      <td>67</td>\n",
       "      <td>124670</td>\n",
       "    </tr>\n",
       "    <tr>\n",
       "      <th>1</th>\n",
       "      <td>100000002</td>\n",
       "      <td>22</td>\n",
       "      <td>150773</td>\n",
       "    </tr>\n",
       "    <tr>\n",
       "      <th>2</th>\n",
       "      <td>100000003</td>\n",
       "      <td>49</td>\n",
       "      <td>89210</td>\n",
       "    </tr>\n",
       "    <tr>\n",
       "      <th>3</th>\n",
       "      <td>100000004</td>\n",
       "      <td>45</td>\n",
       "      <td>171565</td>\n",
       "    </tr>\n",
       "    <tr>\n",
       "      <th>4</th>\n",
       "      <td>100000005</td>\n",
       "      <td>53</td>\n",
       "      <td>149031</td>\n",
       "    </tr>\n",
       "    <tr>\n",
       "      <th>...</th>\n",
       "      <td>...</td>\n",
       "      <td>...</td>\n",
       "      <td>...</td>\n",
       "    </tr>\n",
       "    <tr>\n",
       "      <th>1995</th>\n",
       "      <td>100001996</td>\n",
       "      <td>47</td>\n",
       "      <td>123525</td>\n",
       "    </tr>\n",
       "    <tr>\n",
       "      <th>1996</th>\n",
       "      <td>100001997</td>\n",
       "      <td>27</td>\n",
       "      <td>117744</td>\n",
       "    </tr>\n",
       "    <tr>\n",
       "      <th>1997</th>\n",
       "      <td>100001998</td>\n",
       "      <td>31</td>\n",
       "      <td>86400</td>\n",
       "    </tr>\n",
       "    <tr>\n",
       "      <th>1998</th>\n",
       "      <td>100001999</td>\n",
       "      <td>24</td>\n",
       "      <td>97968</td>\n",
       "    </tr>\n",
       "    <tr>\n",
       "      <th>1999</th>\n",
       "      <td>100002000</td>\n",
       "      <td>25</td>\n",
       "      <td>68416</td>\n",
       "    </tr>\n",
       "  </tbody>\n",
       "</table>\n",
       "<p>2000 rows × 3 columns</p>\n",
       "</div>"
      ],
      "text/plain": [
       "             ID  Age  Income\n",
       "0     100000001   67  124670\n",
       "1     100000002   22  150773\n",
       "2     100000003   49   89210\n",
       "3     100000004   45  171565\n",
       "4     100000005   53  149031\n",
       "...         ...  ...     ...\n",
       "1995  100001996   47  123525\n",
       "1996  100001997   27  117744\n",
       "1997  100001998   31   86400\n",
       "1998  100001999   24   97968\n",
       "1999  100002000   25   68416\n",
       "\n",
       "[2000 rows x 3 columns]"
      ]
     },
     "execution_count": 41,
     "metadata": {},
     "output_type": "execute_result"
    }
   ],
   "source": [
    "df_temp = df[['ID', 'Age', 'Income']]\n",
    "df_temp"
   ]
  },
  {
   "cell_type": "code",
   "execution_count": 53,
   "id": "e3287111-fe9b-4d4f-a5e6-0cd3dd2150a2",
   "metadata": {},
   "outputs": [],
   "source": [
    "scaler = MinMaxScaler()\n",
    "\n",
    "scaler.fit(df[['Age']])\n",
    "df['Age'] = scaler.transform(df[['Age']])\n",
    "\n",
    "scaler.fit(df[['Income']])\n",
    "df['Income'] = scaler.transform(df[['Income']])"
   ]
  },
  {
   "cell_type": "code",
   "execution_count": 55,
   "id": "aa66fe8d-bdcc-44b5-8efb-e907359434a1",
   "metadata": {},
   "outputs": [
    {
     "data": {
      "text/html": [
       "<div>\n",
       "<style scoped>\n",
       "    .dataframe tbody tr th:only-of-type {\n",
       "        vertical-align: middle;\n",
       "    }\n",
       "\n",
       "    .dataframe tbody tr th {\n",
       "        vertical-align: top;\n",
       "    }\n",
       "\n",
       "    .dataframe thead th {\n",
       "        text-align: right;\n",
       "    }\n",
       "</style>\n",
       "<table border=\"1\" class=\"dataframe\">\n",
       "  <thead>\n",
       "    <tr style=\"text-align: right;\">\n",
       "      <th></th>\n",
       "      <th>Sex</th>\n",
       "      <th>Marital status</th>\n",
       "      <th>Age</th>\n",
       "      <th>Education</th>\n",
       "      <th>Income</th>\n",
       "      <th>Occupation</th>\n",
       "      <th>Settlement size</th>\n",
       "    </tr>\n",
       "  </thead>\n",
       "  <tbody>\n",
       "    <tr>\n",
       "      <th>0</th>\n",
       "      <td>0</td>\n",
       "      <td>0</td>\n",
       "      <td>0.844828</td>\n",
       "      <td>2</td>\n",
       "      <td>0.324781</td>\n",
       "      <td>1</td>\n",
       "      <td>2</td>\n",
       "    </tr>\n",
       "    <tr>\n",
       "      <th>1</th>\n",
       "      <td>1</td>\n",
       "      <td>1</td>\n",
       "      <td>0.068966</td>\n",
       "      <td>1</td>\n",
       "      <td>0.420210</td>\n",
       "      <td>1</td>\n",
       "      <td>2</td>\n",
       "    </tr>\n",
       "    <tr>\n",
       "      <th>2</th>\n",
       "      <td>0</td>\n",
       "      <td>0</td>\n",
       "      <td>0.534483</td>\n",
       "      <td>1</td>\n",
       "      <td>0.195144</td>\n",
       "      <td>0</td>\n",
       "      <td>0</td>\n",
       "    </tr>\n",
       "    <tr>\n",
       "      <th>3</th>\n",
       "      <td>0</td>\n",
       "      <td>0</td>\n",
       "      <td>0.465517</td>\n",
       "      <td>1</td>\n",
       "      <td>0.496223</td>\n",
       "      <td>1</td>\n",
       "      <td>1</td>\n",
       "    </tr>\n",
       "    <tr>\n",
       "      <th>4</th>\n",
       "      <td>0</td>\n",
       "      <td>0</td>\n",
       "      <td>0.603448</td>\n",
       "      <td>1</td>\n",
       "      <td>0.413842</td>\n",
       "      <td>1</td>\n",
       "      <td>1</td>\n",
       "    </tr>\n",
       "    <tr>\n",
       "      <th>...</th>\n",
       "      <td>...</td>\n",
       "      <td>...</td>\n",
       "      <td>...</td>\n",
       "      <td>...</td>\n",
       "      <td>...</td>\n",
       "      <td>...</td>\n",
       "      <td>...</td>\n",
       "    </tr>\n",
       "    <tr>\n",
       "      <th>1995</th>\n",
       "      <td>1</td>\n",
       "      <td>0</td>\n",
       "      <td>0.500000</td>\n",
       "      <td>1</td>\n",
       "      <td>0.320595</td>\n",
       "      <td>0</td>\n",
       "      <td>0</td>\n",
       "    </tr>\n",
       "    <tr>\n",
       "      <th>1996</th>\n",
       "      <td>1</td>\n",
       "      <td>1</td>\n",
       "      <td>0.155172</td>\n",
       "      <td>1</td>\n",
       "      <td>0.299460</td>\n",
       "      <td>1</td>\n",
       "      <td>0</td>\n",
       "    </tr>\n",
       "    <tr>\n",
       "      <th>1997</th>\n",
       "      <td>0</td>\n",
       "      <td>0</td>\n",
       "      <td>0.224138</td>\n",
       "      <td>0</td>\n",
       "      <td>0.184871</td>\n",
       "      <td>0</td>\n",
       "      <td>0</td>\n",
       "    </tr>\n",
       "    <tr>\n",
       "      <th>1998</th>\n",
       "      <td>1</td>\n",
       "      <td>1</td>\n",
       "      <td>0.103448</td>\n",
       "      <td>1</td>\n",
       "      <td>0.227162</td>\n",
       "      <td>0</td>\n",
       "      <td>0</td>\n",
       "    </tr>\n",
       "    <tr>\n",
       "      <th>1999</th>\n",
       "      <td>0</td>\n",
       "      <td>0</td>\n",
       "      <td>0.120690</td>\n",
       "      <td>0</td>\n",
       "      <td>0.119123</td>\n",
       "      <td>0</td>\n",
       "      <td>0</td>\n",
       "    </tr>\n",
       "  </tbody>\n",
       "</table>\n",
       "<p>2000 rows × 7 columns</p>\n",
       "</div>"
      ],
      "text/plain": [
       "      Sex  Marital status       Age  Education    Income  Occupation  \\\n",
       "0       0               0  0.844828          2  0.324781           1   \n",
       "1       1               1  0.068966          1  0.420210           1   \n",
       "2       0               0  0.534483          1  0.195144           0   \n",
       "3       0               0  0.465517          1  0.496223           1   \n",
       "4       0               0  0.603448          1  0.413842           1   \n",
       "...   ...             ...       ...        ...       ...         ...   \n",
       "1995    1               0  0.500000          1  0.320595           0   \n",
       "1996    1               1  0.155172          1  0.299460           1   \n",
       "1997    0               0  0.224138          0  0.184871           0   \n",
       "1998    1               1  0.103448          1  0.227162           0   \n",
       "1999    0               0  0.120690          0  0.119123           0   \n",
       "\n",
       "      Settlement size  \n",
       "0                   2  \n",
       "1                   2  \n",
       "2                   0  \n",
       "3                   1  \n",
       "4                   1  \n",
       "...               ...  \n",
       "1995                0  \n",
       "1996                0  \n",
       "1997                0  \n",
       "1998                0  \n",
       "1999                0  \n",
       "\n",
       "[2000 rows x 7 columns]"
      ]
     },
     "execution_count": 55,
     "metadata": {},
     "output_type": "execute_result"
    }
   ],
   "source": [
    "df.drop(['ID'],inplace=True,axis=1)\n",
    "df"
   ]
  },
  {
   "cell_type": "code",
   "execution_count": 57,
   "id": "f87ca072-08bb-4a66-aef7-b26cc6efd805",
   "metadata": {},
   "outputs": [],
   "source": [
    "mark_array = df.values\n",
    "\n",
    "mark_array[:,2] = mark_array[:,2].astype(float)\n",
    "mark_array[:,4] = mark_array[:,4].astype(float)"
   ]
  },
  {
   "cell_type": "code",
   "execution_count": 58,
   "id": "89d4f5ea-6221-4bd6-a39f-34251c7160a6",
   "metadata": {},
   "outputs": [
    {
     "data": {
      "text/html": [
       "<div>\n",
       "<style scoped>\n",
       "    .dataframe tbody tr th:only-of-type {\n",
       "        vertical-align: middle;\n",
       "    }\n",
       "\n",
       "    .dataframe tbody tr th {\n",
       "        vertical-align: top;\n",
       "    }\n",
       "\n",
       "    .dataframe thead th {\n",
       "        text-align: right;\n",
       "    }\n",
       "</style>\n",
       "<table border=\"1\" class=\"dataframe\">\n",
       "  <thead>\n",
       "    <tr style=\"text-align: right;\">\n",
       "      <th></th>\n",
       "      <th>Sex</th>\n",
       "      <th>Marital status</th>\n",
       "      <th>Age</th>\n",
       "      <th>Education</th>\n",
       "      <th>Income</th>\n",
       "      <th>Occupation</th>\n",
       "      <th>Settlement size</th>\n",
       "    </tr>\n",
       "  </thead>\n",
       "  <tbody>\n",
       "    <tr>\n",
       "      <th>0</th>\n",
       "      <td>0</td>\n",
       "      <td>0</td>\n",
       "      <td>0.844828</td>\n",
       "      <td>2</td>\n",
       "      <td>0.324781</td>\n",
       "      <td>1</td>\n",
       "      <td>2</td>\n",
       "    </tr>\n",
       "    <tr>\n",
       "      <th>1</th>\n",
       "      <td>1</td>\n",
       "      <td>1</td>\n",
       "      <td>0.068966</td>\n",
       "      <td>1</td>\n",
       "      <td>0.420210</td>\n",
       "      <td>1</td>\n",
       "      <td>2</td>\n",
       "    </tr>\n",
       "    <tr>\n",
       "      <th>2</th>\n",
       "      <td>0</td>\n",
       "      <td>0</td>\n",
       "      <td>0.534483</td>\n",
       "      <td>1</td>\n",
       "      <td>0.195144</td>\n",
       "      <td>0</td>\n",
       "      <td>0</td>\n",
       "    </tr>\n",
       "    <tr>\n",
       "      <th>3</th>\n",
       "      <td>0</td>\n",
       "      <td>0</td>\n",
       "      <td>0.465517</td>\n",
       "      <td>1</td>\n",
       "      <td>0.496223</td>\n",
       "      <td>1</td>\n",
       "      <td>1</td>\n",
       "    </tr>\n",
       "    <tr>\n",
       "      <th>4</th>\n",
       "      <td>0</td>\n",
       "      <td>0</td>\n",
       "      <td>0.603448</td>\n",
       "      <td>1</td>\n",
       "      <td>0.413842</td>\n",
       "      <td>1</td>\n",
       "      <td>1</td>\n",
       "    </tr>\n",
       "  </tbody>\n",
       "</table>\n",
       "</div>"
      ],
      "text/plain": [
       "   Sex  Marital status       Age  Education    Income  Occupation  \\\n",
       "0    0               0  0.844828          2  0.324781           1   \n",
       "1    1               1  0.068966          1  0.420210           1   \n",
       "2    0               0  0.534483          1  0.195144           0   \n",
       "3    0               0  0.465517          1  0.496223           1   \n",
       "4    0               0  0.603448          1  0.413842           1   \n",
       "\n",
       "   Settlement size  \n",
       "0                2  \n",
       "1                2  \n",
       "2                0  \n",
       "3                1  \n",
       "4                1  "
      ]
     },
     "execution_count": 58,
     "metadata": {},
     "output_type": "execute_result"
    }
   ],
   "source": [
    "df.head()"
   ]
  },
  {
   "cell_type": "markdown",
   "id": "cf4c135b-ff5e-4aea-b69b-dab785e4480f",
   "metadata": {},
   "source": [
    "# Building the model"
   ]
  },
  {
   "cell_type": "code",
   "execution_count": 107,
   "id": "50fd04c0-49cc-4526-858a-af3069fbddbe",
   "metadata": {},
   "outputs": [
    {
     "name": "stdout",
     "output_type": "stream",
     "text": [
      "Init: initializing centroids\n",
      "Init: initializing clusters\n",
      "Starting iterations...\n",
      "Run: 1, iteration: 1/20, moves: 744, ncost: 179.33994044906206\n",
      "Run: 1, iteration: 2/20, moves: 186, ncost: 178.18399003081169\n",
      "Run: 1, iteration: 3/20, moves: 41, ncost: 178.1013129706028\n",
      "Run: 1, iteration: 4/20, moves: 11, ncost: 178.0957946974701\n",
      "Run: 1, iteration: 5/20, moves: 5, ncost: 178.09433368626424\n",
      "Run: 1, iteration: 6/20, moves: 0, ncost: 178.09433368626424\n",
      "Init: initializing centroids\n",
      "Init: initializing clusters\n",
      "Starting iterations...\n",
      "Run: 2, iteration: 1/20, moves: 708, ncost: 163.95747131370123\n",
      "Run: 2, iteration: 2/20, moves: 294, ncost: 162.92379769371448\n",
      "Run: 2, iteration: 3/20, moves: 44, ncost: 162.8340781634074\n",
      "Run: 2, iteration: 4/20, moves: 12, ncost: 162.8167867306247\n",
      "Run: 2, iteration: 5/20, moves: 8, ncost: 162.80853433758543\n",
      "Run: 2, iteration: 6/20, moves: 1, ncost: 162.80747662544636\n",
      "Run: 2, iteration: 7/20, moves: 0, ncost: 162.80747662544636\n",
      "Init: initializing centroids\n",
      "Init: initializing clusters\n",
      "Starting iterations...\n",
      "Run: 3, iteration: 1/20, moves: 645, ncost: 181.1948918796763\n",
      "Run: 3, iteration: 2/20, moves: 212, ncost: 173.51107949469062\n",
      "Run: 3, iteration: 3/20, moves: 86, ncost: 172.65969479624033\n",
      "Run: 3, iteration: 4/20, moves: 92, ncost: 168.50466052459998\n",
      "Run: 3, iteration: 5/20, moves: 30, ncost: 168.44064815635437\n",
      "Run: 3, iteration: 6/20, moves: 2, ncost: 168.43970723146842\n",
      "Run: 3, iteration: 7/20, moves: 0, ncost: 168.43970723146842\n",
      "Init: initializing centroids\n",
      "Init: initializing clusters\n",
      "Starting iterations...\n",
      "Run: 4, iteration: 1/20, moves: 741, ncost: 175.6186496120195\n",
      "Run: 4, iteration: 2/20, moves: 287, ncost: 169.4868190372531\n",
      "Run: 4, iteration: 3/20, moves: 173, ncost: 167.76112315947128\n",
      "Run: 4, iteration: 4/20, moves: 126, ncost: 161.93375765872824\n",
      "Run: 4, iteration: 5/20, moves: 62, ncost: 161.65443289210825\n",
      "Run: 4, iteration: 6/20, moves: 19, ncost: 161.63142117178026\n",
      "Run: 4, iteration: 7/20, moves: 2, ncost: 161.63098761023943\n",
      "Run: 4, iteration: 8/20, moves: 0, ncost: 161.63098761023943\n",
      "Init: initializing centroids\n",
      "Init: initializing clusters\n",
      "Starting iterations...\n",
      "Run: 5, iteration: 1/20, moves: 710, ncost: 185.77763089499683\n",
      "Run: 5, iteration: 2/20, moves: 296, ncost: 179.35587357765544\n",
      "Run: 5, iteration: 3/20, moves: 98, ncost: 175.51480644509442\n",
      "Run: 5, iteration: 4/20, moves: 61, ncost: 175.04875781470756\n",
      "Run: 5, iteration: 5/20, moves: 20, ncost: 175.02529290022574\n",
      "Run: 5, iteration: 6/20, moves: 3, ncost: 175.0219280147871\n",
      "Run: 5, iteration: 7/20, moves: 6, ncost: 175.0198837421012\n",
      "Run: 5, iteration: 8/20, moves: 3, ncost: 175.01634921536845\n",
      "Run: 5, iteration: 9/20, moves: 2, ncost: 175.01567771506197\n",
      "Run: 5, iteration: 10/20, moves: 0, ncost: 175.01567771506197\n",
      "Init: initializing centroids\n",
      "Init: initializing clusters\n",
      "Starting iterations...\n",
      "Run: 6, iteration: 1/20, moves: 842, ncost: 169.45830690145357\n",
      "Run: 6, iteration: 2/20, moves: 195, ncost: 166.1334575890119\n",
      "Run: 6, iteration: 3/20, moves: 58, ncost: 165.82289649107028\n",
      "Run: 6, iteration: 4/20, moves: 16, ncost: 165.8065122010631\n",
      "Run: 6, iteration: 5/20, moves: 6, ncost: 165.8037340048496\n",
      "Run: 6, iteration: 6/20, moves: 1, ncost: 165.80369091300705\n",
      "Run: 6, iteration: 7/20, moves: 0, ncost: 165.80369091300705\n",
      "Init: initializing centroids\n",
      "Init: initializing clusters\n",
      "Starting iterations...\n",
      "Run: 7, iteration: 1/20, moves: 617, ncost: 192.0746923336715\n",
      "Run: 7, iteration: 2/20, moves: 132, ncost: 190.8463161130148\n",
      "Run: 7, iteration: 3/20, moves: 112, ncost: 190.19283012924836\n",
      "Run: 7, iteration: 4/20, moves: 36, ncost: 190.1534923281344\n",
      "Run: 7, iteration: 5/20, moves: 7, ncost: 190.1499773852962\n",
      "Run: 7, iteration: 6/20, moves: 4, ncost: 190.14880825654052\n",
      "Run: 7, iteration: 7/20, moves: 0, ncost: 190.14880825654052\n",
      "Init: initializing centroids\n",
      "Init: initializing clusters\n",
      "Starting iterations...\n",
      "Run: 8, iteration: 1/20, moves: 797, ncost: 192.60315658469045\n",
      "Run: 8, iteration: 2/20, moves: 125, ncost: 189.66066768898483\n",
      "Run: 8, iteration: 3/20, moves: 43, ncost: 189.4625545162382\n",
      "Run: 8, iteration: 4/20, moves: 8, ncost: 189.45044917786083\n",
      "Run: 8, iteration: 5/20, moves: 1, ncost: 189.44936171591317\n",
      "Run: 8, iteration: 6/20, moves: 0, ncost: 189.44936171591317\n",
      "Init: initializing centroids\n",
      "Init: initializing clusters\n",
      "Starting iterations...\n",
      "Run: 9, iteration: 1/20, moves: 595, ncost: 178.7618083602419\n",
      "Run: 9, iteration: 2/20, moves: 242, ncost: 178.09368309369972\n",
      "Run: 9, iteration: 3/20, moves: 32, ncost: 177.99825612413355\n",
      "Run: 9, iteration: 4/20, moves: 4, ncost: 177.99540262754704\n",
      "Run: 9, iteration: 5/20, moves: 0, ncost: 177.99540262754704\n",
      "Init: initializing centroids\n",
      "Init: initializing clusters\n",
      "Starting iterations...\n",
      "Run: 10, iteration: 1/20, moves: 656, ncost: 183.24647933649587\n",
      "Run: 10, iteration: 2/20, moves: 141, ncost: 181.93397122957737\n",
      "Run: 10, iteration: 3/20, moves: 22, ncost: 181.91006775025343\n",
      "Run: 10, iteration: 4/20, moves: 1, ncost: 181.9094623763092\n",
      "Run: 10, iteration: 5/20, moves: 0, ncost: 181.9094623763092\n",
      "Best run was number 4\n"
     ]
    }
   ],
   "source": [
    "kproto = KPrototypes(n_clusters=10, verbose=2, max_iter=20)\n",
    "clusters = kproto.fit_predict(mark_array,categorical=[0,1,3,5,6])\n"
   ]
  },
  {
   "cell_type": "code",
   "execution_count": 63,
   "id": "94ecf897-b939-47ac-a5ae-4efce9b3b9b5",
   "metadata": {},
   "outputs": [
    {
     "name": "stdout",
     "output_type": "stream",
     "text": [
      "[[0.41181267 0.37024815 0.         0.         1.         1.\n",
      "  1.        ]\n",
      " [0.20010813 0.18415315 1.         1.         1.         0.\n",
      "  0.        ]\n",
      " [0.18851024 0.29205215 1.         1.         1.         1.\n",
      "  0.        ]\n",
      " [0.59582709 0.5441883  0.         0.         2.         2.\n",
      "  2.        ]\n",
      " [0.14503043 0.16373447 0.         0.         0.         0.\n",
      "  0.        ]\n",
      " [0.18454972 0.36528029 0.         0.         0.         1.\n",
      "  2.        ]\n",
      " [0.65222323 0.38291036 1.         1.         2.         1.\n",
      "  1.        ]\n",
      " [0.43058076 0.22368848 0.         0.         1.         0.\n",
      "  0.        ]\n",
      " [0.16783955 0.32123587 1.         1.         1.         1.\n",
      "  1.        ]\n",
      " [0.1778715  0.33073105 1.         1.         1.         1.\n",
      "  2.        ]]\n"
     ]
    }
   ],
   "source": [
    "print(kproto.cluster_centroids_)"
   ]
  },
  {
   "cell_type": "code",
   "execution_count": 69,
   "id": "ee93823d-f594-4ae6-ad9e-c55d536a9149",
   "metadata": {},
   "outputs": [
    {
     "name": "stdout",
     "output_type": "stream",
     "text": [
      "10\n"
     ]
    },
    {
     "data": {
      "text/plain": [
       "array([3, 9, 7, ..., 4, 1, 4], dtype=uint16)"
      ]
     },
     "execution_count": 69,
     "metadata": {},
     "output_type": "execute_result"
    }
   ],
   "source": [
    "print(len(kproto.cluster_centroids_))\n",
    "clusters"
   ]
  },
  {
   "cell_type": "code",
   "execution_count": 70,
   "id": "24bbc574-bfb8-4820-89be-f005e56000de",
   "metadata": {},
   "outputs": [],
   "source": [
    "cluster_col = []\n",
    "\n",
    "for c in clusters:\n",
    "    cluster_col.append(c)\n",
    "    \n",
    "df['cluster'] = cluster_col\n",
    "\n",
    "# poniendo las columnas originales de temp a df\n",
    "df[['ID','Age','Income']] = df_temp"
   ]
  },
  {
   "cell_type": "code",
   "execution_count": 93,
   "id": "9b938eb3-985f-4f06-a422-744fd3a42df1",
   "metadata": {},
   "outputs": [
    {
     "data": {
      "text/plain": [
       "86203.78048780488"
      ]
     },
     "execution_count": 93,
     "metadata": {},
     "output_type": "execute_result"
    }
   ],
   "source": [
    "df[df['cluster']==0]['Income'].mean()"
   ]
  },
  {
   "cell_type": "code",
   "execution_count": 94,
   "id": "d3858853-a303-49fa-8d59-2f944dc148b5",
   "metadata": {},
   "outputs": [
    {
     "data": {
      "text/plain": [
       "137106.7162162162"
      ]
     },
     "execution_count": 94,
     "metadata": {},
     "output_type": "execute_result"
    }
   ],
   "source": [
    "df[df['cluster']==1]['Income'].mean()"
   ]
  },
  {
   "cell_type": "code",
   "execution_count": 95,
   "id": "3eedb4fb-28b6-4acd-a4db-45eae97cbada",
   "metadata": {},
   "outputs": [
    {
     "data": {
      "text/plain": [
       "115717.609375"
      ]
     },
     "execution_count": 95,
     "metadata": {},
     "output_type": "execute_result"
    }
   ],
   "source": [
    "df[df['cluster']==2]['Income'].mean()"
   ]
  },
  {
   "cell_type": "code",
   "execution_count": 96,
   "id": "788ac842-cfb1-4832-99b1-0be3685f771a",
   "metadata": {},
   "outputs": [
    {
     "data": {
      "text/plain": [
       "41.88513513513514"
      ]
     },
     "execution_count": 96,
     "metadata": {},
     "output_type": "execute_result"
    }
   ],
   "source": [
    "df[df['cluster']==0]['Age'].mean()"
   ]
  },
  {
   "cell_type": "code",
   "execution_count": 97,
   "id": "d2a7283a-5256-426b-a547-960a6cbb8733",
   "metadata": {},
   "outputs": [
    {
     "data": {
      "text/plain": [
       "29.606271777003485"
      ]
     },
     "execution_count": 97,
     "metadata": {},
     "output_type": "execute_result"
    }
   ],
   "source": [
    "df[df['cluster']==1]['Age'].mean()"
   ]
  },
  {
   "cell_type": "code",
   "execution_count": 105,
   "id": "df7838d6-6b09-4a09-83de-a4f3bc03742e",
   "metadata": {},
   "outputs": [
    {
     "data": {
      "text/plain": [
       "52.55797101449275"
      ]
     },
     "execution_count": 105,
     "metadata": {},
     "output_type": "execute_result"
    }
   ],
   "source": [
    "df[df['cluster']==3]['Age'].mean()"
   ]
  },
  {
   "cell_type": "markdown",
   "id": "2e5ae276-aec1-47e2-9789-413040e9d2b5",
   "metadata": {},
   "source": [
    "# Scatter plot de los segmentos"
   ]
  },
  {
   "cell_type": "code",
   "execution_count": 104,
   "id": "28a43319-88ae-4e50-8c0a-a087a75da4ed",
   "metadata": {},
   "outputs": [
    {
     "data": {
      "image/png": "[encoded data removed]",
      "text/plain": [
       "<Figure size 1080x1080 with 1 Axes>"
      ]
     },
     "metadata": {
      "needs_background": "light"
     },
     "output_type": "display_data"
    }
   ],
   "source": [
    "colors = ['green','red','gray','orange','yellow','cyan','magenta','brown','purple','blue']\n",
    "\n",
    "plt.figure(figsize=(15,15))\n",
    "plt.xlabel('Age')\n",
    "plt.ylabel('Income')\n",
    "\n",
    "for i, col in zip(range(10),colors):\n",
    "    dftemp = df[df.cluster==i]\n",
    "    plt.scatter(dftemp.Age,dftemp['Income'],color=col, alpha=0.5)"
   ]
  },
  {
   "cell_type": "code",
   "execution_count": null,
   "id": "bd142db7-6e02-49e1-a9ac-1a12ef1cdca5",
   "metadata": {},
   "outputs": [],
   "source": []
  }
 ],
 "metadata": {
  "kernelspec": {
   "display_name": "Python 3",
   "language": "python",
   "name": "python3"
  },
  "language_info": {
   "codemirror_mode": {
    "name": "ipython",
    "version": 3
   },
   "file_extension": ".py",
   "mimetype": "text/x-python",
   "name": "python",
   "nbconvert_exporter": "python",
   "pygments_lexer": "ipython3",
   "version": "3.8.8"
  }
 },
 "nbformat": 4,
 "nbformat_minor": 5
}
